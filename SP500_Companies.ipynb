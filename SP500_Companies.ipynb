{
  "nbformat": 4,
  "nbformat_minor": 0,
  "metadata": {
    "colab": {
      "name": "SP500 Companies.ipynb",
      "provenance": [],
      "collapsed_sections": [],
      "authorship_tag": "ABX9TyMkJvf6Thz2bga4sPyE80ig",
      "include_colab_link": true
    },
    "kernelspec": {
      "name": "python3",
      "display_name": "Python 3"
    }
  },
  "cells": [
    {
      "cell_type": "markdown",
      "metadata": {
        "id": "view-in-github",
        "colab_type": "text"
      },
      "source": [
        "<a href=\"https://colab.research.google.com/github/rachanrv/Hackmaster/blob/master/SP500_Companies.ipynb\" target=\"_parent\"><img src=\"https://colab.research.google.com/assets/colab-badge.svg\" alt=\"Open In Colab\"/></a>"
      ]
    },
    {
      "cell_type": "code",
      "metadata": {
        "id": "qcFUpDEc4ZvP",
        "colab_type": "code",
        "colab": {
          "base_uri": "https://localhost:8080/",
          "height": 36
        },
        "outputId": "65fbd96e-8c67-4a70-b7e8-909c7fe2844a"
      },
      "source": [
        "from google.colab import drive\n",
        "drive.mount('/content/drive')"
      ],
      "execution_count": null,
      "outputs": [
        {
          "output_type": "stream",
          "text": [
            "Drive already mounted at /content/drive; to attempt to forcibly remount, call drive.mount(\"/content/drive\", force_remount=True).\n"
          ],
          "name": "stdout"
        }
      ]
    },
    {
      "cell_type": "code",
      "metadata": {
        "id": "iohEH1Wdj01i",
        "colab_type": "code",
        "colab": {
          "base_uri": "https://localhost:8080/",
          "height": 74
        },
        "outputId": "21b067a6-5ca9-4ad6-cc68-3ed0b6369fa8"
      },
      "source": [
        "import numpy as np\n",
        "import pandas as pd\n",
        "pd.core.common.is_list_like = pd.api.types.is_list_like\n",
        "import matplotlib.pyplot as plt\n",
        "import datetime as dt\n",
        "import pandas_datareader as pdr\n",
        "% matplotlib inline\n"
      ],
      "execution_count": null,
      "outputs": [
        {
          "output_type": "stream",
          "text": [
            "/usr/local/lib/python3.6/dist-packages/pandas_datareader/compat/__init__.py:7: FutureWarning: pandas.util.testing is deprecated. Use the functions in the public API at pandas.testing instead.\n",
            "  from pandas.util.testing import assert_frame_equal\n"
          ],
          "name": "stderr"
        }
      ]
    },
    {
      "cell_type": "code",
      "metadata": {
        "id": "Ae-T73a9t7n6",
        "colab_type": "code",
        "colab": {
          "base_uri": "https://localhost:8080/",
          "height": 241
        },
        "outputId": "ea86aa1b-2a9f-4e6c-c8ea-8142f6681070"
      },
      "source": [
        "!pip install fix_yahoo_finance "
      ],
      "execution_count": null,
      "outputs": [
        {
          "output_type": "stream",
          "text": [
            "Requirement already satisfied: fix_yahoo_finance in /usr/local/lib/python3.6/dist-packages (0.0.22)\n",
            "Requirement already satisfied: pandas in /usr/local/lib/python3.6/dist-packages (from fix_yahoo_finance) (1.0.5)\n",
            "Requirement already satisfied: multitasking in /usr/local/lib/python3.6/dist-packages (from fix_yahoo_finance) (0.0.9)\n",
            "Requirement already satisfied: requests in /usr/local/lib/python3.6/dist-packages (from fix_yahoo_finance) (2.23.0)\n",
            "Requirement already satisfied: numpy in /usr/local/lib/python3.6/dist-packages (from fix_yahoo_finance) (1.18.5)\n",
            "Requirement already satisfied: python-dateutil>=2.6.1 in /usr/local/lib/python3.6/dist-packages (from pandas->fix_yahoo_finance) (2.8.1)\n",
            "Requirement already satisfied: pytz>=2017.2 in /usr/local/lib/python3.6/dist-packages (from pandas->fix_yahoo_finance) (2018.9)\n",
            "Requirement already satisfied: chardet<4,>=3.0.2 in /usr/local/lib/python3.6/dist-packages (from requests->fix_yahoo_finance) (3.0.4)\n",
            "Requirement already satisfied: certifi>=2017.4.17 in /usr/local/lib/python3.6/dist-packages (from requests->fix_yahoo_finance) (2020.6.20)\n",
            "Requirement already satisfied: urllib3!=1.25.0,!=1.25.1,<1.26,>=1.21.1 in /usr/local/lib/python3.6/dist-packages (from requests->fix_yahoo_finance) (1.24.3)\n",
            "Requirement already satisfied: idna<3,>=2.5 in /usr/local/lib/python3.6/dist-packages (from requests->fix_yahoo_finance) (2.10)\n",
            "Requirement already satisfied: six>=1.5 in /usr/local/lib/python3.6/dist-packages (from python-dateutil>=2.6.1->pandas->fix_yahoo_finance) (1.15.0)\n"
          ],
          "name": "stdout"
        }
      ]
    },
    {
      "cell_type": "code",
      "metadata": {
        "id": "GqzmibXVrwsQ",
        "colab_type": "code",
        "colab": {}
      },
      "source": [
        "import fix_yahoo_finance as fyf\n",
        "from pandas_datareader import data as pdr"
      ],
      "execution_count": null,
      "outputs": []
    },
    {
      "cell_type": "code",
      "metadata": {
        "id": "nkhov5ButUSo",
        "colab_type": "code",
        "colab": {}
      },
      "source": [
        "fyf.pdr_override()"
      ],
      "execution_count": null,
      "outputs": []
    },
    {
      "cell_type": "code",
      "metadata": {
        "id": "E_MhcAaKa2fo",
        "colab_type": "code",
        "colab": {
          "base_uri": "https://localhost:8080/",
          "height": 424
        },
        "outputId": "b684cad0-4b22-4788-ec60-f8a1f18ba789"
      },
      "source": [
        "payload=pd.read_html('https://en.wikipedia.org/wiki/List_of_S%26P_500_companies')\n",
        "first_table = payload[0]\n",
        "second_table = payload[1]\n",
        "\n",
        "sp = first_table\n",
        "sp"
      ],
      "execution_count": null,
      "outputs": [
        {
          "output_type": "execute_result",
          "data": {
            "text/html": [
              "<div>\n",
              "<style scoped>\n",
              "    .dataframe tbody tr th:only-of-type {\n",
              "        vertical-align: middle;\n",
              "    }\n",
              "\n",
              "    .dataframe tbody tr th {\n",
              "        vertical-align: top;\n",
              "    }\n",
              "\n",
              "    .dataframe thead th {\n",
              "        text-align: right;\n",
              "    }\n",
              "</style>\n",
              "<table border=\"1\" class=\"dataframe\">\n",
              "  <thead>\n",
              "    <tr style=\"text-align: right;\">\n",
              "      <th></th>\n",
              "      <th>Symbol</th>\n",
              "      <th>Security</th>\n",
              "      <th>SEC filings</th>\n",
              "      <th>GICS Sector</th>\n",
              "      <th>GICS Sub Industry</th>\n",
              "      <th>Headquarters Location</th>\n",
              "      <th>Date first added</th>\n",
              "      <th>CIK</th>\n",
              "      <th>Founded</th>\n",
              "    </tr>\n",
              "  </thead>\n",
              "  <tbody>\n",
              "    <tr>\n",
              "      <th>0</th>\n",
              "      <td>MMM</td>\n",
              "      <td>3M Company</td>\n",
              "      <td>reports</td>\n",
              "      <td>Industrials</td>\n",
              "      <td>Industrial Conglomerates</td>\n",
              "      <td>St. Paul, Minnesota</td>\n",
              "      <td>1976-08-09</td>\n",
              "      <td>66740</td>\n",
              "      <td>1902</td>\n",
              "    </tr>\n",
              "    <tr>\n",
              "      <th>1</th>\n",
              "      <td>ABT</td>\n",
              "      <td>Abbott Laboratories</td>\n",
              "      <td>reports</td>\n",
              "      <td>Health Care</td>\n",
              "      <td>Health Care Equipment</td>\n",
              "      <td>North Chicago, Illinois</td>\n",
              "      <td>1964-03-31</td>\n",
              "      <td>1800</td>\n",
              "      <td>1888</td>\n",
              "    </tr>\n",
              "    <tr>\n",
              "      <th>2</th>\n",
              "      <td>ABBV</td>\n",
              "      <td>AbbVie Inc.</td>\n",
              "      <td>reports</td>\n",
              "      <td>Health Care</td>\n",
              "      <td>Pharmaceuticals</td>\n",
              "      <td>North Chicago, Illinois</td>\n",
              "      <td>2012-12-31</td>\n",
              "      <td>1551152</td>\n",
              "      <td>2013 (1888)</td>\n",
              "    </tr>\n",
              "    <tr>\n",
              "      <th>3</th>\n",
              "      <td>ABMD</td>\n",
              "      <td>ABIOMED Inc</td>\n",
              "      <td>reports</td>\n",
              "      <td>Health Care</td>\n",
              "      <td>Health Care Equipment</td>\n",
              "      <td>Danvers, Massachusetts</td>\n",
              "      <td>2018-05-31</td>\n",
              "      <td>815094</td>\n",
              "      <td>1981</td>\n",
              "    </tr>\n",
              "    <tr>\n",
              "      <th>4</th>\n",
              "      <td>ACN</td>\n",
              "      <td>Accenture plc</td>\n",
              "      <td>reports</td>\n",
              "      <td>Information Technology</td>\n",
              "      <td>IT Consulting &amp; Other Services</td>\n",
              "      <td>Dublin, Ireland</td>\n",
              "      <td>2011-07-06</td>\n",
              "      <td>1467373</td>\n",
              "      <td>1989</td>\n",
              "    </tr>\n",
              "    <tr>\n",
              "      <th>...</th>\n",
              "      <td>...</td>\n",
              "      <td>...</td>\n",
              "      <td>...</td>\n",
              "      <td>...</td>\n",
              "      <td>...</td>\n",
              "      <td>...</td>\n",
              "      <td>...</td>\n",
              "      <td>...</td>\n",
              "      <td>...</td>\n",
              "    </tr>\n",
              "    <tr>\n",
              "      <th>500</th>\n",
              "      <td>YUM</td>\n",
              "      <td>Yum! Brands Inc</td>\n",
              "      <td>reports</td>\n",
              "      <td>Consumer Discretionary</td>\n",
              "      <td>Restaurants</td>\n",
              "      <td>Louisville, Kentucky</td>\n",
              "      <td>1997-10-06</td>\n",
              "      <td>1041061</td>\n",
              "      <td>1997</td>\n",
              "    </tr>\n",
              "    <tr>\n",
              "      <th>501</th>\n",
              "      <td>ZBRA</td>\n",
              "      <td>Zebra Technologies</td>\n",
              "      <td>reports</td>\n",
              "      <td>Information Technology</td>\n",
              "      <td>Electronic Equipment &amp; Instruments</td>\n",
              "      <td>Lincolnshire, Illinois</td>\n",
              "      <td>2019-12-23</td>\n",
              "      <td>877212</td>\n",
              "      <td>1969</td>\n",
              "    </tr>\n",
              "    <tr>\n",
              "      <th>502</th>\n",
              "      <td>ZBH</td>\n",
              "      <td>Zimmer Biomet Holdings</td>\n",
              "      <td>reports</td>\n",
              "      <td>Health Care</td>\n",
              "      <td>Health Care Equipment</td>\n",
              "      <td>Warsaw, Indiana</td>\n",
              "      <td>2001-08-07</td>\n",
              "      <td>1136869</td>\n",
              "      <td>1927</td>\n",
              "    </tr>\n",
              "    <tr>\n",
              "      <th>503</th>\n",
              "      <td>ZION</td>\n",
              "      <td>Zions Bancorp</td>\n",
              "      <td>reports</td>\n",
              "      <td>Financials</td>\n",
              "      <td>Regional Banks</td>\n",
              "      <td>Salt Lake City, Utah</td>\n",
              "      <td>2001-06-22</td>\n",
              "      <td>109380</td>\n",
              "      <td>1873</td>\n",
              "    </tr>\n",
              "    <tr>\n",
              "      <th>504</th>\n",
              "      <td>ZTS</td>\n",
              "      <td>Zoetis</td>\n",
              "      <td>reports</td>\n",
              "      <td>Health Care</td>\n",
              "      <td>Pharmaceuticals</td>\n",
              "      <td>Florham Park, New Jersey</td>\n",
              "      <td>2013-06-21</td>\n",
              "      <td>1555280</td>\n",
              "      <td>1952</td>\n",
              "    </tr>\n",
              "  </tbody>\n",
              "</table>\n",
              "<p>505 rows × 9 columns</p>\n",
              "</div>"
            ],
            "text/plain": [
              "    Symbol                Security  ...      CIK      Founded\n",
              "0      MMM              3M Company  ...    66740         1902\n",
              "1      ABT     Abbott Laboratories  ...     1800         1888\n",
              "2     ABBV             AbbVie Inc.  ...  1551152  2013 (1888)\n",
              "3     ABMD             ABIOMED Inc  ...   815094         1981\n",
              "4      ACN           Accenture plc  ...  1467373         1989\n",
              "..     ...                     ...  ...      ...          ...\n",
              "500    YUM         Yum! Brands Inc  ...  1041061         1997\n",
              "501   ZBRA      Zebra Technologies  ...   877212         1969\n",
              "502    ZBH  Zimmer Biomet Holdings  ...  1136869         1927\n",
              "503   ZION           Zions Bancorp  ...   109380         1873\n",
              "504    ZTS                  Zoetis  ...  1555280         1952\n",
              "\n",
              "[505 rows x 9 columns]"
            ]
          },
          "metadata": {
            "tags": []
          },
          "execution_count": 6
        }
      ]
    },
    {
      "cell_type": "code",
      "metadata": {
        "id": "uI5cZLmnkyf4",
        "colab_type": "code",
        "colab": {
          "base_uri": "https://localhost:8080/",
          "height": 455
        },
        "outputId": "cc6c7a39-8293-4c37-ce71-2bbf6a19828b"
      },
      "source": [
        "S1=sp[['Symbol','GICS Sector']]\n",
        "S1.reset_index()\n",
        "S1.set_index(['GICS Sector'],inplace=True)\n",
        "S1.sort_index(axis=0)\n",
        "S1"
      ],
      "execution_count": null,
      "outputs": [
        {
          "output_type": "execute_result",
          "data": {
            "text/html": [
              "<div>\n",
              "<style scoped>\n",
              "    .dataframe tbody tr th:only-of-type {\n",
              "        vertical-align: middle;\n",
              "    }\n",
              "\n",
              "    .dataframe tbody tr th {\n",
              "        vertical-align: top;\n",
              "    }\n",
              "\n",
              "    .dataframe thead th {\n",
              "        text-align: right;\n",
              "    }\n",
              "</style>\n",
              "<table border=\"1\" class=\"dataframe\">\n",
              "  <thead>\n",
              "    <tr style=\"text-align: right;\">\n",
              "      <th></th>\n",
              "      <th>Symbol</th>\n",
              "    </tr>\n",
              "    <tr>\n",
              "      <th>GICS Sector</th>\n",
              "      <th></th>\n",
              "    </tr>\n",
              "  </thead>\n",
              "  <tbody>\n",
              "    <tr>\n",
              "      <th>Industrials</th>\n",
              "      <td>MMM</td>\n",
              "    </tr>\n",
              "    <tr>\n",
              "      <th>Health Care</th>\n",
              "      <td>ABT</td>\n",
              "    </tr>\n",
              "    <tr>\n",
              "      <th>Health Care</th>\n",
              "      <td>ABBV</td>\n",
              "    </tr>\n",
              "    <tr>\n",
              "      <th>Health Care</th>\n",
              "      <td>ABMD</td>\n",
              "    </tr>\n",
              "    <tr>\n",
              "      <th>Information Technology</th>\n",
              "      <td>ACN</td>\n",
              "    </tr>\n",
              "    <tr>\n",
              "      <th>...</th>\n",
              "      <td>...</td>\n",
              "    </tr>\n",
              "    <tr>\n",
              "      <th>Consumer Discretionary</th>\n",
              "      <td>YUM</td>\n",
              "    </tr>\n",
              "    <tr>\n",
              "      <th>Information Technology</th>\n",
              "      <td>ZBRA</td>\n",
              "    </tr>\n",
              "    <tr>\n",
              "      <th>Health Care</th>\n",
              "      <td>ZBH</td>\n",
              "    </tr>\n",
              "    <tr>\n",
              "      <th>Financials</th>\n",
              "      <td>ZION</td>\n",
              "    </tr>\n",
              "    <tr>\n",
              "      <th>Health Care</th>\n",
              "      <td>ZTS</td>\n",
              "    </tr>\n",
              "  </tbody>\n",
              "</table>\n",
              "<p>505 rows × 1 columns</p>\n",
              "</div>"
            ],
            "text/plain": [
              "                       Symbol\n",
              "GICS Sector                  \n",
              "Industrials               MMM\n",
              "Health Care               ABT\n",
              "Health Care              ABBV\n",
              "Health Care              ABMD\n",
              "Information Technology    ACN\n",
              "...                       ...\n",
              "Consumer Discretionary    YUM\n",
              "Information Technology   ZBRA\n",
              "Health Care               ZBH\n",
              "Financials               ZION\n",
              "Health Care               ZTS\n",
              "\n",
              "[505 rows x 1 columns]"
            ]
          },
          "metadata": {
            "tags": []
          },
          "execution_count": 7
        }
      ]
    },
    {
      "cell_type": "code",
      "metadata": {
        "id": "Mx61El_HrbKL",
        "colab_type": "code",
        "colab": {}
      },
      "source": [
        "sectors=sp['GICS Sector']\n",
        "sectors=sectors[sectors.duplicated(keep=False)]\n",
        "sectors=sectors.drop_duplicates()\n"
      ],
      "execution_count": null,
      "outputs": []
    },
    {
      "cell_type": "markdown",
      "metadata": {
        "id": "J2BNXEyAxlI6",
        "colab_type": "text"
      },
      "source": [
        "# Industrials"
      ]
    },
    {
      "cell_type": "code",
      "metadata": {
        "id": "po-7hKcaXJ-9",
        "colab_type": "code",
        "colab": {}
      },
      "source": [
        "def stock(I,s):\n",
        "  I=I.reset_index()\n",
        "  I=I.loc[:,'Symbol']\n",
        "  d=[]\n",
        "  for x in I:\n",
        "    x=str(x)\n",
        "    d.append(x)\n",
        "  data1 = pdr.get_data_yahoo(d,start='2019-12-01')\n",
        "  data1=data1['Adj Close'][d]\n",
        "  returns=pd.DataFrame.pct_change(data1)\n",
        "  returns=returns.iloc[1:,:]\n",
        "  returns=returns.reset_index()\n",
        "  returns['Date'] = pd.to_datetime(returns['Date'])\n",
        "  returns['Month'] = returns['Date'].dt.month\n",
        "  returns['Year'] = returns['Date'].dt.year\n",
        "  returns['Month-str'] = returns['Date'].dt.strftime('%b')\n",
        "  df=returns.groupby(['Month','Month-str','Year']).mean()\n",
        "  df1=pd.DataFrame()\n",
        "  df1['Average Stock Price change']=df[d].mean(axis=1)\n",
        "  df1['Average Stock Price change']=df1['Average Stock Price change']*100\n",
        "  df1['Sector']=s\n",
        "  return df1"
      ],
      "execution_count": null,
      "outputs": []
    },
    {
      "cell_type": "code",
      "metadata": {
        "id": "b87xbXUXwBJ_",
        "colab_type": "code",
        "colab": {}
      },
      "source": [
        "I=S1.loc['Industrials','Symbol']"
      ],
      "execution_count": null,
      "outputs": []
    },
    {
      "cell_type": "code",
      "metadata": {
        "id": "CdlHJLyAYHEG",
        "colab_type": "code",
        "colab": {
          "base_uri": "https://localhost:8080/",
          "height": 36
        },
        "outputId": "5d6639fc-1f2a-49c7-cc83-ce72ae9a98d8"
      },
      "source": [
        "i1=stock(I,'Industrials')"
      ],
      "execution_count": null,
      "outputs": [
        {
          "output_type": "stream",
          "text": [
            "[*********************100%***********************]  73 of 73 downloaded\n"
          ],
          "name": "stdout"
        }
      ]
    },
    {
      "cell_type": "code",
      "metadata": {
        "id": "5zOMW4mVwkjB",
        "colab_type": "code",
        "colab": {}
      },
      "source": [
        "HC=S1.loc['Health Care','Symbol']"
      ],
      "execution_count": null,
      "outputs": []
    },
    {
      "cell_type": "code",
      "metadata": {
        "id": "r7h9HY7hYSEx",
        "colab_type": "code",
        "colab": {
          "base_uri": "https://localhost:8080/",
          "height": 36
        },
        "outputId": "a3ca42f4-f3c4-4eec-e276-ce6727aafb6c"
      },
      "source": [
        "hc1=stock(HC,'Health Care')"
      ],
      "execution_count": null,
      "outputs": [
        {
          "output_type": "stream",
          "text": [
            "[*********************100%***********************]  62 of 62 downloaded\n"
          ],
          "name": "stdout"
        }
      ]
    },
    {
      "cell_type": "code",
      "metadata": {
        "id": "FpgjGSlXwtFB",
        "colab_type": "code",
        "colab": {}
      },
      "source": [
        "IT=S1.loc['Information Technology','Symbol']"
      ],
      "execution_count": null,
      "outputs": []
    },
    {
      "cell_type": "code",
      "metadata": {
        "id": "HJCg0Z2sYYWe",
        "colab_type": "code",
        "colab": {
          "base_uri": "https://localhost:8080/",
          "height": 36
        },
        "outputId": "6d00fd3b-9130-44c6-9f8e-3688f6957e1f"
      },
      "source": [
        "it1=stock(IT,'Information Technology')"
      ],
      "execution_count": null,
      "outputs": [
        {
          "output_type": "stream",
          "text": [
            "[*********************100%***********************]  70 of 70 downloaded\n"
          ],
          "name": "stdout"
        }
      ]
    },
    {
      "cell_type": "code",
      "metadata": {
        "id": "WYfXnHbcwtao",
        "colab_type": "code",
        "colab": {}
      },
      "source": [
        "C=S1.loc['Communication Services','Symbol']"
      ],
      "execution_count": null,
      "outputs": []
    },
    {
      "cell_type": "code",
      "metadata": {
        "id": "eEFdcwAmYgyx",
        "colab_type": "code",
        "colab": {
          "base_uri": "https://localhost:8080/",
          "height": 36
        },
        "outputId": "9a5d133d-fa22-425f-dbfa-2571f810ba35"
      },
      "source": [
        "c1=stock(C,'Communication Services')"
      ],
      "execution_count": null,
      "outputs": [
        {
          "output_type": "stream",
          "text": [
            "[*********************100%***********************]  26 of 26 downloaded\n"
          ],
          "name": "stdout"
        }
      ]
    },
    {
      "cell_type": "code",
      "metadata": {
        "id": "Ajwm3sgmwuLq",
        "colab_type": "code",
        "colab": {}
      },
      "source": [
        "CD=S1.loc['Consumer Discretionary','Symbol']"
      ],
      "execution_count": null,
      "outputs": []
    },
    {
      "cell_type": "code",
      "metadata": {
        "id": "w1ynVDWWYtoW",
        "colab_type": "code",
        "colab": {
          "base_uri": "https://localhost:8080/",
          "height": 36
        },
        "outputId": "b26cc582-424b-4564-abe4-365abf223fb1"
      },
      "source": [
        "cd1=stock(CD,'Consumer Discretionary')"
      ],
      "execution_count": null,
      "outputs": [
        {
          "output_type": "stream",
          "text": [
            "[*********************100%***********************]  61 of 61 downloaded\n"
          ],
          "name": "stdout"
        }
      ]
    },
    {
      "cell_type": "code",
      "metadata": {
        "id": "_i7jfKr_wupu",
        "colab_type": "code",
        "colab": {}
      },
      "source": [
        "U=S1.loc['Utilities','Symbol']"
      ],
      "execution_count": null,
      "outputs": []
    },
    {
      "cell_type": "code",
      "metadata": {
        "id": "hVcjRvxjYy3f",
        "colab_type": "code",
        "colab": {
          "base_uri": "https://localhost:8080/",
          "height": 36
        },
        "outputId": "aaaf8a1a-3828-487d-96c2-edbfbc9bc13c"
      },
      "source": [
        "u1=stock(U,'Utilities')"
      ],
      "execution_count": null,
      "outputs": [
        {
          "output_type": "stream",
          "text": [
            "[*********************100%***********************]  28 of 28 downloaded\n"
          ],
          "name": "stdout"
        }
      ]
    },
    {
      "cell_type": "code",
      "metadata": {
        "id": "a-yQXUQ-wxhH",
        "colab_type": "code",
        "colab": {
          "base_uri": "https://localhost:8080/",
          "height": 36
        },
        "outputId": "a9cd3aa6-b170-49aa-ef8f-cc982b14ef8a"
      },
      "source": [
        "F=S1.loc['Financials','Symbol']\n",
        "F=F.reset_index()\n",
        "for x in range(len(F)):\n",
        "  if F.loc[x,'Symbol']=='BRK.B':\n",
        "    F.loc[x,'Symbol']='BRKB'\n"
      ],
      "execution_count": null,
      "outputs": [
        {
          "output_type": "stream",
          "text": [
            "success\n"
          ],
          "name": "stdout"
        }
      ]
    },
    {
      "cell_type": "code",
      "metadata": {
        "id": "oDESsd5rY5B3",
        "colab_type": "code",
        "colab": {
          "base_uri": "https://localhost:8080/",
          "height": 36
        },
        "outputId": "706c57d8-e704-4a46-9f0d-54b5a8be6afd"
      },
      "source": [
        "f1=stock(F,'Financials')"
      ],
      "execution_count": null,
      "outputs": [
        {
          "output_type": "stream",
          "text": [
            "[*********************100%***********************]  66 of 66 downloaded\n"
          ],
          "name": "stdout"
        }
      ]
    },
    {
      "cell_type": "code",
      "metadata": {
        "id": "kxtT6jhDwzGW",
        "colab_type": "code",
        "colab": {}
      },
      "source": [
        "M=S1.loc['Materials','Symbol']"
      ],
      "execution_count": null,
      "outputs": []
    },
    {
      "cell_type": "code",
      "metadata": {
        "id": "TGlxsNceY-UV",
        "colab_type": "code",
        "colab": {
          "base_uri": "https://localhost:8080/",
          "height": 36
        },
        "outputId": "e0ea771d-37d0-4a95-efb7-8c794c8cf442"
      },
      "source": [
        "m1=stock(M,'Materials')"
      ],
      "execution_count": null,
      "outputs": [
        {
          "output_type": "stream",
          "text": [
            "[*********************100%***********************]  28 of 28 downloaded\n"
          ],
          "name": "stdout"
        }
      ]
    },
    {
      "cell_type": "code",
      "metadata": {
        "id": "89-AncRgwywV",
        "colab_type": "code",
        "colab": {}
      },
      "source": [
        "RE=S1.loc['Real Estate','Symbol']"
      ],
      "execution_count": null,
      "outputs": []
    },
    {
      "cell_type": "code",
      "metadata": {
        "id": "jj6bqj9zZDdK",
        "colab_type": "code",
        "colab": {
          "base_uri": "https://localhost:8080/",
          "height": 36
        },
        "outputId": "69a4ab3e-ee9e-46ee-b9d1-6c0c448101ac"
      },
      "source": [
        "re1=stock(RE,'Real Estate')"
      ],
      "execution_count": null,
      "outputs": [
        {
          "output_type": "stream",
          "text": [
            "[*********************100%***********************]  31 of 31 downloaded\n"
          ],
          "name": "stdout"
        }
      ]
    },
    {
      "cell_type": "code",
      "metadata": {
        "id": "89CNiUEZwya9",
        "colab_type": "code",
        "colab": {}
      },
      "source": [
        "CS=S1.loc['Consumer Staples','Symbol']\n",
        "CS=CS.reset_index()\n",
        "for x in range(len(CS)):\n",
        "  if CS.loc[x,'Symbol']=='BF.B':\n",
        "    CS.loc[x,'Symbol']='BFB'"
      ],
      "execution_count": null,
      "outputs": []
    },
    {
      "cell_type": "code",
      "metadata": {
        "id": "98STRWa5ZKIw",
        "colab_type": "code",
        "colab": {
          "base_uri": "https://localhost:8080/",
          "height": 36
        },
        "outputId": "c917c623-cfd4-4cb8-cec0-296745ffad6a"
      },
      "source": [
        "cs1=stock(CS,'Consumer Staples')"
      ],
      "execution_count": null,
      "outputs": [
        {
          "output_type": "stream",
          "text": [
            "[*********************100%***********************]  33 of 33 downloaded\n"
          ],
          "name": "stdout"
        }
      ]
    },
    {
      "cell_type": "code",
      "metadata": {
        "id": "8hwMRlTqwyH1",
        "colab_type": "code",
        "colab": {}
      },
      "source": [
        "E=S1.loc['Energy','Symbol']"
      ],
      "execution_count": null,
      "outputs": []
    },
    {
      "cell_type": "code",
      "metadata": {
        "id": "N53HbcUlZUlb",
        "colab_type": "code",
        "colab": {
          "base_uri": "https://localhost:8080/",
          "height": 36
        },
        "outputId": "4fa3e960-e32e-4649-9b97-ac3f29060dba"
      },
      "source": [
        "e1=stock(E,'Energy')"
      ],
      "execution_count": null,
      "outputs": [
        {
          "output_type": "stream",
          "text": [
            "[*********************100%***********************]  26 of 26 downloaded\n"
          ],
          "name": "stdout"
        }
      ]
    },
    {
      "cell_type": "code",
      "metadata": {
        "id": "rxCBks5pZahG",
        "colab_type": "code",
        "colab": {
          "base_uri": "https://localhost:8080/",
          "height": 455
        },
        "outputId": "d1de6cb5-9f1b-4135-da0e-a51e4bfe014d"
      },
      "source": [
        "stockdata=pd.DataFrame()\n",
        "stockdata = stockdata.append(i1)\n",
        "stockdata = stockdata.append(hc1)\n",
        "stockdata = stockdata.append(it1)\n",
        "stockdata = stockdata.append(c1)\n",
        "stockdata = stockdata.append(cd1)\n",
        "stockdata = stockdata.append(u1)\n",
        "stockdata = stockdata.append(f1)\n",
        "stockdata = stockdata.append(m1)\n",
        "stockdata = stockdata.append(re1)\n",
        "stockdata = stockdata.append(cs1)\n",
        "stockdata = stockdata.append(e1)\n",
        "#stockdata.to_csv(\"/content/drive/Shared drives/Build with AI/Stockdataset.csv\")\n",
        "stockdata"
      ],
      "execution_count": null,
      "outputs": [
        {
          "output_type": "execute_result",
          "data": {
            "text/html": [
              "<div>\n",
              "<style scoped>\n",
              "    .dataframe tbody tr th:only-of-type {\n",
              "        vertical-align: middle;\n",
              "    }\n",
              "\n",
              "    .dataframe tbody tr th {\n",
              "        vertical-align: top;\n",
              "    }\n",
              "\n",
              "    .dataframe thead th {\n",
              "        text-align: right;\n",
              "    }\n",
              "</style>\n",
              "<table border=\"1\" class=\"dataframe\">\n",
              "  <thead>\n",
              "    <tr style=\"text-align: right;\">\n",
              "      <th></th>\n",
              "      <th></th>\n",
              "      <th></th>\n",
              "      <th>Average Stock Price change</th>\n",
              "      <th>Sector</th>\n",
              "    </tr>\n",
              "    <tr>\n",
              "      <th>Month</th>\n",
              "      <th>Month-str</th>\n",
              "      <th>Year</th>\n",
              "      <th></th>\n",
              "      <th></th>\n",
              "    </tr>\n",
              "  </thead>\n",
              "  <tbody>\n",
              "    <tr>\n",
              "      <th>1</th>\n",
              "      <th>Jan</th>\n",
              "      <th>2020</th>\n",
              "      <td>-0.042746</td>\n",
              "      <td>Industrials</td>\n",
              "    </tr>\n",
              "    <tr>\n",
              "      <th>2</th>\n",
              "      <th>Feb</th>\n",
              "      <th>2020</th>\n",
              "      <td>-0.463920</td>\n",
              "      <td>Industrials</td>\n",
              "    </tr>\n",
              "    <tr>\n",
              "      <th>3</th>\n",
              "      <th>Mar</th>\n",
              "      <th>2020</th>\n",
              "      <td>-0.608095</td>\n",
              "      <td>Industrials</td>\n",
              "    </tr>\n",
              "    <tr>\n",
              "      <th>4</th>\n",
              "      <th>Apr</th>\n",
              "      <th>2020</th>\n",
              "      <td>0.490705</td>\n",
              "      <td>Industrials</td>\n",
              "    </tr>\n",
              "    <tr>\n",
              "      <th>5</th>\n",
              "      <th>May</th>\n",
              "      <th>2020</th>\n",
              "      <td>0.362509</td>\n",
              "      <td>Industrials</td>\n",
              "    </tr>\n",
              "    <tr>\n",
              "      <th>...</th>\n",
              "      <th>...</th>\n",
              "      <th>...</th>\n",
              "      <td>...</td>\n",
              "      <td>...</td>\n",
              "    </tr>\n",
              "    <tr>\n",
              "      <th>4</th>\n",
              "      <th>Apr</th>\n",
              "      <th>2020</th>\n",
              "      <td>1.902764</td>\n",
              "      <td>Energy</td>\n",
              "    </tr>\n",
              "    <tr>\n",
              "      <th>5</th>\n",
              "      <th>May</th>\n",
              "      <th>2020</th>\n",
              "      <td>0.074218</td>\n",
              "      <td>Energy</td>\n",
              "    </tr>\n",
              "    <tr>\n",
              "      <th>6</th>\n",
              "      <th>Jun</th>\n",
              "      <th>2020</th>\n",
              "      <td>0.173903</td>\n",
              "      <td>Energy</td>\n",
              "    </tr>\n",
              "    <tr>\n",
              "      <th>7</th>\n",
              "      <th>Jul</th>\n",
              "      <th>2020</th>\n",
              "      <td>0.090911</td>\n",
              "      <td>Energy</td>\n",
              "    </tr>\n",
              "    <tr>\n",
              "      <th>12</th>\n",
              "      <th>Dec</th>\n",
              "      <th>2019</th>\n",
              "      <td>0.515306</td>\n",
              "      <td>Energy</td>\n",
              "    </tr>\n",
              "  </tbody>\n",
              "</table>\n",
              "<p>88 rows × 2 columns</p>\n",
              "</div>"
            ],
            "text/plain": [
              "                      Average Stock Price change       Sector\n",
              "Month Month-str Year                                         \n",
              "1     Jan       2020                   -0.042746  Industrials\n",
              "2     Feb       2020                   -0.463920  Industrials\n",
              "3     Mar       2020                   -0.608095  Industrials\n",
              "4     Apr       2020                    0.490705  Industrials\n",
              "5     May       2020                    0.362509  Industrials\n",
              "...                                          ...          ...\n",
              "4     Apr       2020                    1.902764       Energy\n",
              "5     May       2020                    0.074218       Energy\n",
              "6     Jun       2020                    0.173903       Energy\n",
              "7     Jul       2020                    0.090911       Energy\n",
              "12    Dec       2019                    0.515306       Energy\n",
              "\n",
              "[88 rows x 2 columns]"
            ]
          },
          "metadata": {
            "tags": []
          },
          "execution_count": 55
        }
      ]
    }
  ]
}